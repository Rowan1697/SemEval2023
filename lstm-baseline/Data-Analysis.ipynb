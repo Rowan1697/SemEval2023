{
 "cells": [
  {
   "cell_type": "code",
   "execution_count": 1,
   "id": "2b7f0b62",
   "metadata": {},
   "outputs": [],
   "source": [
    "import pandas as pd"
   ]
  },
  {
   "cell_type": "code",
   "execution_count": 2,
   "id": "b6aaa6af",
   "metadata": {},
   "outputs": [],
   "source": [
    "train = pd.read_csv('Dataset/train.csv')\n",
    "train = train[train['lang']=='en']"
   ]
  },
  {
   "cell_type": "code",
   "execution_count": 3,
   "id": "cc6d6895",
   "metadata": {},
   "outputs": [
    {
     "data": {
      "text/plain": [
       "['B-HumanSettlement',\n",
       " 'B-Politician',\n",
       " 'I-Station',\n",
       " 'O',\n",
       " 'B-Drink',\n",
       " 'I-MedicalProcedure',\n",
       " '_',\n",
       " 'B-Vehicle',\n",
       " 'B-Facility',\n",
       " 'B-CarManufacturer',\n",
       " 'I-Vehicle',\n",
       " 'B-ORG',\n",
       " 'B-Symptom',\n",
       " 'I-ArtWork',\n",
       " 'I-Symptom',\n",
       " 'B-SportsManager',\n",
       " 'B-MusicalWork',\n",
       " 'I-SportsManager',\n",
       " 'B-VisualWork',\n",
       " 'I-PublicCorp',\n",
       " 'I-Facility',\n",
       " 'B-SportsGRP',\n",
       " 'B-OtherPER',\n",
       " 'B-AerospaceManufacturer',\n",
       " 'B-OtherPROD',\n",
       " 'B-Scientist',\n",
       " 'I-Clothing',\n",
       " 'I-Drink',\n",
       " 'B-Medication/Vaccine',\n",
       " 'I-OtherPROD',\n",
       " 'B-PrivateCorp',\n",
       " 'I-Artist',\n",
       " 'I-ORG',\n",
       " 'I-Disease',\n",
       " 'I-Cleric',\n",
       " 'I-Food',\n",
       " 'B-Athlete',\n",
       " 'I-AerospaceManufacturer',\n",
       " 'B-MedicalProcedure',\n",
       " 'I-HumanSettlement',\n",
       " 'I-PrivateCorp',\n",
       " 'B-Food',\n",
       " 'I-Scientist',\n",
       " 'B-WrittenWork',\n",
       " 'B-OtherLOC',\n",
       " 'B-Artist',\n",
       " 'B-MusicalGRP',\n",
       " 'B-ArtWork',\n",
       " 'I-Politician',\n",
       " 'I-MusicalWork',\n",
       " 'I-Software',\n",
       " 'B-Cleric',\n",
       " 'I-Medication/Vaccine',\n",
       " 'I-SportsGRP',\n",
       " 'I-VisualWork',\n",
       " 'I-AnatomicalStructure',\n",
       " 'I-OtherPER',\n",
       " 'I-OtherLOC',\n",
       " 'B-AnatomicalStructure',\n",
       " 'B-Software',\n",
       " 'B-PublicCorp',\n",
       " 'B-Station',\n",
       " 'I-MusicalGRP',\n",
       " 'I-WrittenWork',\n",
       " 'B-Clothing',\n",
       " 'I-Athlete',\n",
       " 'I-CarManufacturer',\n",
       " 'B-Disease']"
      ]
     },
     "execution_count": 3,
     "metadata": {},
     "output_type": "execute_result"
    }
   ],
   "source": [
    "with open('tags.txt','r') as file:\n",
    "    \n",
    "    tags = [line.strip() for line in file]\n",
    " \n",
    "tags"
   ]
  },
  {
   "cell_type": "code",
   "execution_count": 4,
   "id": "e902aae4",
   "metadata": {},
   "outputs": [],
   "source": [
    "tag = 'ArtWork'\n",
    "sens = train[train['labels'].str.contains(tag)]"
   ]
  },
  {
   "cell_type": "code",
   "execution_count": 5,
   "id": "f8893f3e",
   "metadata": {},
   "outputs": [
    {
     "name": "stdout",
     "output_type": "stream",
     "text": [
      "file  :  atelier  rouge  matisse  1  .  jpg  |  henri  matisse  l'atelier  rouge  1911  oil  on  canvas  162  ×  130  cm  . \n",
      " O  O  O  O  O  O  O  O  O  B-Artist  I-Artist  B-ArtWork  I-ArtWork  O  O  O  O  O  O  O  O  O\n"
     ]
    }
   ],
   "source": [
    "print(sens.iloc[4]['sent'])\n",
    "print(sens.iloc[4]['labels'])"
   ]
  },
  {
   "cell_type": "code",
   "execution_count": 35,
   "id": "3fdf668b",
   "metadata": {},
   "outputs": [
    {
     "data": {
      "text/html": [
       "<div>\n",
       "<style scoped>\n",
       "    .dataframe tbody tr th:only-of-type {\n",
       "        vertical-align: middle;\n",
       "    }\n",
       "\n",
       "    .dataframe tbody tr th {\n",
       "        vertical-align: top;\n",
       "    }\n",
       "\n",
       "    .dataframe thead th {\n",
       "        text-align: right;\n",
       "    }\n",
       "</style>\n",
       "<table border=\"1\" class=\"dataframe\">\n",
       "  <thead>\n",
       "    <tr style=\"text-align: right;\">\n",
       "      <th></th>\n",
       "      <th>ID</th>\n",
       "      <th>lang</th>\n",
       "      <th>sent</th>\n",
       "      <th>labels</th>\n",
       "    </tr>\n",
       "  </thead>\n",
       "  <tbody>\n",
       "    <tr>\n",
       "      <th>785</th>\n",
       "      <td>d71216d1-059a-4cb4-af19-a201d18c24ba</td>\n",
       "      <td>bn</td>\n",
       "      <td>দুবাই  (  দুবাই  আন্তর্জাতিক  বিমানবন্দর  )  থ...</td>\n",
       "      <td>O  O  O  O  O  O  O  B-HumanSettlement  B-Hum...</td>\n",
       "    </tr>\n",
       "    <tr>\n",
       "      <th>947</th>\n",
       "      <td>777c56cd-2183-454d-b234-f54cdb394ba3</td>\n",
       "      <td>bn</td>\n",
       "      <td>বোয়িং  ৭৫৭  ২০০  অবতরণ  ব্রিস্টল  বিমানবন্দর ...</td>\n",
       "      <td>O  O  O  O  B-Station  I-Station  B-HumanSett...</td>\n",
       "    </tr>\n",
       "    <tr>\n",
       "      <th>1288</th>\n",
       "      <td>a3ba4793-9b6c-4e6a-b6a7-b653ef095ae0</td>\n",
       "      <td>bn</td>\n",
       "      <td>ভেন্টুরা  -  পূর্ব  (  পূর্বে  মন্টালভো  )  ভে...</td>\n",
       "      <td>O  O  O  O  O  O  O  B-HumanSettlement  O  O ...</td>\n",
       "    </tr>\n",
       "    <tr>\n",
       "      <th>1319</th>\n",
       "      <td>8284deaa-9e23-403b-a926-f98aa3d5a9ee</td>\n",
       "      <td>bn</td>\n",
       "      <td>এটি  বিমানবন্দর  সুইজারল্যান্ড  এ  অবস্থান  অন...</td>\n",
       "      <td>O  B-Station  B-HumanSettlement  O  O  O  O  ...</td>\n",
       "    </tr>\n",
       "    <tr>\n",
       "      <th>1422</th>\n",
       "      <td>d05348a0-78b9-4bd0-b610-f0b52bae3b59</td>\n",
       "      <td>bn</td>\n",
       "      <td>দুটি  স্টেশন  এল  পাসো  এবং  স্যান  ডিয়েগো  ল...</td>\n",
       "      <td>O  O  B-HumanSettlement  I-HumanSettlement  O...</td>\n",
       "    </tr>\n",
       "    <tr>\n",
       "      <th>...</th>\n",
       "      <td>...</td>\n",
       "      <td>...</td>\n",
       "      <td>...</td>\n",
       "      <td>...</td>\n",
       "    </tr>\n",
       "    <tr>\n",
       "      <th>169963</th>\n",
       "      <td>43906a4a-11f7-48b5-a17c-6b4aa721f75f</td>\n",
       "      <td>zh</td>\n",
       "      <td>szolnok  (  )  是  匈  牙  利  铁  路  运  输  (  máv ...</td>\n",
       "      <td>O  O  O  O  B-ORG  I-ORG  I-ORG  I-ORG  I-ORG...</td>\n",
       "    </tr>\n",
       "    <tr>\n",
       "      <th>169964</th>\n",
       "      <td>66fe1bf0-7842-45e1-af6b-3c32d36e15c8</td>\n",
       "      <td>zh</td>\n",
       "      <td>该  单  位  包  含  40  名  男  性  和  38  名  女  性  并 ...</td>\n",
       "      <td>O  O  O  O  O  O  O  O  O  O  O  O  O  O  O  ...</td>\n",
       "    </tr>\n",
       "    <tr>\n",
       "      <th>169965</th>\n",
       "      <td>44e0b87c-51f4-464c-a3b6-08fa99d13f26</td>\n",
       "      <td>zh</td>\n",
       "      <td>6  tph  西  行  通  过  希  斯  羅  機  場  4  號  航  站 ...</td>\n",
       "      <td>O  O  O  O  O  O  B-Station  I-Station  I-Sta...</td>\n",
       "    </tr>\n",
       "    <tr>\n",
       "      <th>169966</th>\n",
       "      <td>6f691b86-018e-4184-b1b1-43d257b39832</td>\n",
       "      <td>zh</td>\n",
       "      <td>因  此  向  下  夜  間  海  岸  號  运  行  到  飛  翔  的  蘇...</td>\n",
       "      <td>O  O  O  O  B-Vehicle  I-Vehicle  I-Vehicle  ...</td>\n",
       "    </tr>\n",
       "    <tr>\n",
       "      <th>170178</th>\n",
       "      <td>68360e9d-04ea-4e6a-a529-9e58a1c8f1bb</td>\n",
       "      <td>zh</td>\n",
       "      <td>他  开  始  了  一  条  通  往  福  尼  布  機  場  的  报  纸...</td>\n",
       "      <td>O  O  O  O  O  O  O  O  B-Station  I-Station ...</td>\n",
       "    </tr>\n",
       "  </tbody>\n",
       "</table>\n",
       "<p>3233 rows × 4 columns</p>\n",
       "</div>"
      ],
      "text/plain": [
       "                                          ID lang  \\\n",
       "785     d71216d1-059a-4cb4-af19-a201d18c24ba   bn   \n",
       "947     777c56cd-2183-454d-b234-f54cdb394ba3   bn   \n",
       "1288    a3ba4793-9b6c-4e6a-b6a7-b653ef095ae0   bn   \n",
       "1319    8284deaa-9e23-403b-a926-f98aa3d5a9ee   bn   \n",
       "1422    d05348a0-78b9-4bd0-b610-f0b52bae3b59   bn   \n",
       "...                                      ...  ...   \n",
       "169963  43906a4a-11f7-48b5-a17c-6b4aa721f75f   zh   \n",
       "169964  66fe1bf0-7842-45e1-af6b-3c32d36e15c8   zh   \n",
       "169965  44e0b87c-51f4-464c-a3b6-08fa99d13f26   zh   \n",
       "169966  6f691b86-018e-4184-b1b1-43d257b39832   zh   \n",
       "170178  68360e9d-04ea-4e6a-a529-9e58a1c8f1bb   zh   \n",
       "\n",
       "                                                     sent  \\\n",
       "785     দুবাই  (  দুবাই  আন্তর্জাতিক  বিমানবন্দর  )  থ...   \n",
       "947     বোয়িং  ৭৫৭  ২০০  অবতরণ  ব্রিস্টল  বিমানবন্দর ...   \n",
       "1288    ভেন্টুরা  -  পূর্ব  (  পূর্বে  মন্টালভো  )  ভে...   \n",
       "1319    এটি  বিমানবন্দর  সুইজারল্যান্ড  এ  অবস্থান  অন...   \n",
       "1422    দুটি  স্টেশন  এল  পাসো  এবং  স্যান  ডিয়েগো  ল...   \n",
       "...                                                   ...   \n",
       "169963  szolnok  (  )  是  匈  牙  利  铁  路  运  输  (  máv ...   \n",
       "169964  该  单  位  包  含  40  名  男  性  和  38  名  女  性  并 ...   \n",
       "169965  6  tph  西  行  通  过  希  斯  羅  機  場  4  號  航  站 ...   \n",
       "169966  因  此  向  下  夜  間  海  岸  號  运  行  到  飛  翔  的  蘇...   \n",
       "170178  他  开  始  了  一  条  通  往  福  尼  布  機  場  的  报  纸...   \n",
       "\n",
       "                                                   labels  \n",
       "785      O  O  O  O  O  O  O  B-HumanSettlement  B-Hum...  \n",
       "947      O  O  O  O  B-Station  I-Station  B-HumanSett...  \n",
       "1288     O  O  O  O  O  O  O  B-HumanSettlement  O  O ...  \n",
       "1319     O  B-Station  B-HumanSettlement  O  O  O  O  ...  \n",
       "1422     O  O  B-HumanSettlement  I-HumanSettlement  O...  \n",
       "...                                                   ...  \n",
       "169963   O  O  O  O  B-ORG  I-ORG  I-ORG  I-ORG  I-ORG...  \n",
       "169964   O  O  O  O  O  O  O  O  O  O  O  O  O  O  O  ...  \n",
       "169965   O  O  O  O  O  O  B-Station  I-Station  I-Sta...  \n",
       "169966   O  O  O  O  B-Vehicle  I-Vehicle  I-Vehicle  ...  \n",
       "170178   O  O  O  O  O  O  O  O  B-Station  I-Station ...  \n",
       "\n",
       "[3233 rows x 4 columns]"
      ]
     },
     "execution_count": 35,
     "metadata": {},
     "output_type": "execute_result"
    }
   ],
   "source": [
    "sens"
   ]
  },
  {
   "cell_type": "code",
   "execution_count": 6,
   "id": "8215d50c",
   "metadata": {},
   "outputs": [],
   "source": [
    "# import urllib\n",
    "# def query(q,epr,f='application/json'):\n",
    "    \n",
    "#     params = {'query': q}\n",
    "#     params = urllib.parse.urlencode(params)\n",
    "#     opener = urllib.build_opener(urllib.HTTPHandler)\n",
    "#     request = urllib.Request(epr+'?'+params)\n",
    "#     request.add_header('Accept', f)\n",
    "#     request.get_method = lambda: 'GET'\n",
    "#     url = opener.open(request)\n",
    "#     return url.read()\n",
    "#     except e:\n",
    "#         traceback.print_exc(file=sys.stdout)\n",
    "#         raise e \n",
    "import requests\n",
    "\n",
    "def query(q, epr, f='application/json'):\n",
    "    try:\n",
    "        params = {'query': q}\n",
    "        resp = requests.get(epr, params=params, headers={'Accept': f})\n",
    "        return resp.text\n",
    "    except Exception as e:\n",
    "        print(e, file=sys.stdout)\n",
    "        raise"
   ]
  },
  {
   "cell_type": "code",
   "execution_count": 9,
   "id": "3cb07ca5",
   "metadata": {},
   "outputs": [
    {
     "name": "stdout",
     "output_type": "stream",
     "text": [
      "\n",
      "{ \"head\": { \"link\": [], \"vars\": [\"birthPlace\"] },\n",
      "  \"results\": { \"distinct\": false, \"ordered\": true, \"bindings\": [\n",
      "    { \"birthPlace\": { \"type\": \"literal\", \"xml:lang\": \"en\", \"value\": \"Pretoria, Transvaal, South Africa\" }} ] } }\n"
     ]
    }
   ],
   "source": [
    "q1 = \"\"\"select ?birthPlace where {<http://dbpedia.org/resource/Elon_Musk> <http://dbpedia.org/property/birthPlace> ?birthPlace .}\"\"\"\n",
    "print(query(q1,\"http://dbpedia.org/sparql\"))\n",
    "\n"
   ]
  },
  {
   "cell_type": "code",
   "execution_count": 45,
   "id": "16884b02",
   "metadata": {},
   "outputs": [],
   "source": [
    "Q2 = \"SELECT * WHERE { ?p a <http://dbpedia.org/ontology/Person> .  ?s <http://dbpedia.org/ontology/profession> ?profession. ?p <http://dbpedia.org/ontology/influenced> ?influenced. ?p <http://dbpedia.org/ontology/knownFor> ?knownFor. ?s <http://dbpedia.org/ontology/profession> ?profession.} LIMIT 5\""
   ]
  },
  {
   "cell_type": "code",
   "execution_count": 46,
   "id": "df64f9ae",
   "metadata": {},
   "outputs": [
    {
     "name": "stdout",
     "output_type": "stream",
     "text": [
      "\n",
      "{ \"head\": { \"link\": [], \"vars\": [\"p\", \"s\", \"profession\", \"influenced\", \"knownFor\"] },\n",
      "  \"results\": { \"distinct\": false, \"ordered\": true, \"bindings\": [\n",
      "    { \"p\": { \"type\": \"uri\", \"value\": \"http://dbpedia.org/resource/Alister_Hardy\" }\t, \"s\": { \"type\": \"uri\", \"value\": \"http://dbpedia.org/resource/Mary_Hayashi\" }\t, \"profession\": { \"type\": \"uri\", \"value\": \"http://dbpedia.org/resource/American_Public_Health_Association\" }\t, \"influenced\": { \"type\": \"uri\", \"value\": \"http://dbpedia.org/resource/Elaine_Morgan\" }\t, \"knownFor\": { \"type\": \"uri\", \"value\": \"http://dbpedia.org/resource/Aquatic_ape_hypothesis\" }},\n",
      "    { \"p\": { \"type\": \"uri\", \"value\": \"http://dbpedia.org/resource/Alister_Hardy\" }\t, \"s\": { \"type\": \"uri\", \"value\": \"http://dbpedia.org/resource/Mary_Hayashi\" }\t, \"profession\": { \"type\": \"uri\", \"value\": \"http://dbpedia.org/resource/American_Public_Health_Association\" }\t, \"influenced\": { \"type\": \"uri\", \"value\": \"http://dbpedia.org/resource/Elaine_Morgan\" }\t, \"knownFor\": { \"type\": \"uri\", \"value\": \"http://dbpedia.org/resource/RRS_Discovery\" }},\n",
      "    { \"p\": { \"type\": \"uri\", \"value\": \"http://dbpedia.org/resource/Alister_Hardy\" }\t, \"s\": { \"type\": \"uri\", \"value\": \"http://dbpedia.org/resource/Mary_Hayashi\" }\t, \"profession\": { \"type\": \"uri\", \"value\": \"http://dbpedia.org/resource/American_Public_Health_Association\" }\t, \"influenced\": { \"type\": \"uri\", \"value\": \"http://dbpedia.org/resource/Elaine_Morgan\" }\t, \"knownFor\": { \"type\": \"uri\", \"value\": \"http://dbpedia.org/resource/Continuous_Plankton_Recorder\" }},\n",
      "    { \"p\": { \"type\": \"uri\", \"value\": \"http://dbpedia.org/resource/Amelia_Griffiths\" }\t, \"s\": { \"type\": \"uri\", \"value\": \"http://dbpedia.org/resource/Mary_Hayashi\" }\t, \"profession\": { \"type\": \"uri\", \"value\": \"http://dbpedia.org/resource/American_Public_Health_Association\" }\t, \"influenced\": { \"type\": \"uri\", \"value\": \"http://dbpedia.org/resource/William_Henry_Harvey\" }\t, \"knownFor\": { \"type\": \"uri\", \"value\": \"http://dbpedia.org/resource/Phycology\" }},\n",
      "    { \"p\": { \"type\": \"uri\", \"value\": \"http://dbpedia.org/resource/Anders_P._Ravn\" }\t, \"s\": { \"type\": \"uri\", \"value\": \"http://dbpedia.org/resource/Mary_Hayashi\" }\t, \"profession\": { \"type\": \"uri\", \"value\": \"http://dbpedia.org/resource/American_Public_Health_Association\" }\t, \"influenced\": { \"type\": \"uri\", \"value\": \"http://dbpedia.org/resource/Zhiming_Liu_(computer_scientist)\" }\t, \"knownFor\": { \"type\": \"uri\", \"value\": \"http://dbpedia.org/resource/Duration_calculus\" }} ] } }\n"
     ]
    }
   ],
   "source": [
    "print(query(Q2,\"http://dbpedia.org/sparql\"))"
   ]
  },
  {
   "cell_type": "code",
   "execution_count": null,
   "id": "dbd66614",
   "metadata": {},
   "outputs": [],
   "source": []
  }
 ],
 "metadata": {
  "kernelspec": {
   "display_name": "Python 3 (ipykernel)",
   "language": "python",
   "name": "python3"
  },
  "language_info": {
   "codemirror_mode": {
    "name": "ipython",
    "version": 3
   },
   "file_extension": ".py",
   "mimetype": "text/x-python",
   "name": "python",
   "nbconvert_exporter": "python",
   "pygments_lexer": "ipython3",
   "version": "3.10.6"
  }
 },
 "nbformat": 4,
 "nbformat_minor": 5
}

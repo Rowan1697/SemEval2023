{
 "cells": [
  {
   "cell_type": "code",
   "execution_count": 1,
   "id": "d4eb4ebd",
   "metadata": {},
   "outputs": [],
   "source": [
    "import pandas as pd\n",
    "import os"
   ]
  },
  {
   "cell_type": "code",
   "execution_count": 5,
   "id": "f3293d9d",
   "metadata": {},
   "outputs": [],
   "source": [
    "data = os.listdir('../Dataset')\n",
    "train_all = [\"../Dataset/\"+file for file in data if 'train' in file and 'tags' in file]\n",
    "dev_all = [\"../Dataset/\"+file for file in data if 'dev' in file and 'all' in file]\n",
    "train_LM = [\"../Dataset/\"+file for file in data if 'train' in file and 'LM' in file]\n",
    "dev_LM = [\"../Dataset/\"+file for file in data if 'dev' in file and 'LM' in file]"
   ]
  },
  {
   "cell_type": "code",
   "execution_count": 22,
   "id": "73f85452",
   "metadata": {},
   "outputs": [],
   "source": [
    "train_all_df = [pd.read_csv(file) for file in train_all]\n",
    "dev_all_df = [pd.read_csv(file) for file in dev_all]\n",
    "\n",
    "train_LM_df = [pd.read_csv(file) for file in train_LM]\n",
    "dev_LM_df = [pd.read_csv(file) for file in dev_LM]"
   ]
  },
  {
   "cell_type": "code",
   "execution_count": 23,
   "id": "29169fbe",
   "metadata": {},
   "outputs": [],
   "source": [
    "train_all_df = pd.concat(train_all_df)\n",
    "train_LM_df = pd.concat(train_LM_df)\n",
    "\n",
    "dev_all_df = pd.concat(dev_all_df)\n",
    "dev_LM_df = pd.concat(dev_LM_df)"
   ]
  },
  {
   "cell_type": "code",
   "execution_count": 47,
   "id": "840f7bd1",
   "metadata": {},
   "outputs": [],
   "source": [
    "train_all_df.to_csv('../Dataset/train-aug-tags.csv', index=False)\n",
    "train_LM_df.to_csv('../Dataset/train-aug-LM.csv', index=False)\n",
    "\n",
    "dev_all_df.to_csv('../Dataset/dev-aug-tags.csv', index=False)\n",
    "dev_LM_df.to_csv('../Dataset/dev-aug-LM.csv', index=False)"
   ]
  },
  {
   "cell_type": "code",
   "execution_count": 26,
   "id": "7362d48a",
   "metadata": {},
   "outputs": [
    {
     "data": {
      "text/plain": [
       "['es', 'pt', 'it', 'bn', 'uk', 'zh', 'fr', 'hi', 'sv', 'fa', 'de', 'en']"
      ]
     },
     "execution_count": 26,
     "metadata": {},
     "output_type": "execute_result"
    }
   ],
   "source": [
    "langs = train_all_df.lang.unique().tolist()"
   ]
  },
  {
   "cell_type": "code",
   "execution_count": 37,
   "id": "337775de",
   "metadata": {},
   "outputs": [
    {
     "name": "stdout",
     "output_type": "stream",
     "text": [
      "Lang : es Info Percentage: 65.44%\n",
      "Lang : es Info Percentage: 64.95%\n",
      "Lang : pt Info Percentage: 66.40%\n",
      "Lang : pt Info Percentage: 66.35%\n",
      "Lang : it Info Percentage: 60.05%\n",
      "Lang : it Info Percentage: 61.73%\n",
      "Lang : bn Info Percentage: 67.80%\n",
      "Lang : bn Info Percentage: 65.02%\n",
      "Lang : uk Info Percentage: 44.08%\n",
      "Lang : uk Info Percentage: 43.29%\n",
      "Lang : zh Info Percentage: 2.25%\n",
      "Lang : zh Info Percentage: 2.77%\n",
      "Lang : fr Info Percentage: 61.53%\n",
      "Lang : fr Info Percentage: 63.67%\n",
      "Lang : hi Info Percentage: 77.74%\n",
      "Lang : hi Info Percentage: 75.63%\n",
      "Lang : sv Info Percentage: 70.90%\n",
      "Lang : sv Info Percentage: 70.06%\n",
      "Lang : fa Info Percentage: 88.03%\n",
      "Lang : fa Info Percentage: 86.89%\n",
      "Lang : de Info Percentage: 51.05%\n",
      "Lang : de Info Percentage: 47.95%\n",
      "Lang : en Info Percentage: 79.97%\n",
      "Lang : en Info Percentage: 78.97%\n"
     ]
    }
   ],
   "source": [
    "infos = []\n",
    "for l in langs:\n",
    "    data = train_all_df[train_all_df.lang==l]\n",
    "    \n",
    "    temp = data[data['sent']!=data['augmented_sen']]\n",
    "    info_percent = temp.shape[0]/data.shape[0]\n",
    "    print(f\"Lang : {l} Info Percentage: {info_percent*100:.2f}%\")\n",
    "    infos.append((l,'train','tags',info_percent))\n",
    "    \n",
    "    data_dev = dev_all_df[dev_all_df.lang==l]\n",
    "    temp = data_dev[data_dev['sent']!=data_dev['augmented_sen']]\n",
    "    info_percent = temp.shape[0]/data_dev.shape[0]\n",
    "    infos.append((l,'dev','tags',info_percent))\n",
    "    \n",
    "    print(f\"Lang : {l} Info Percentage: {info_percent*100:.2f}%\")\n"
   ]
  },
  {
   "cell_type": "code",
   "execution_count": 39,
   "id": "2feceb06",
   "metadata": {},
   "outputs": [
    {
     "name": "stdout",
     "output_type": "stream",
     "text": [
      "Lang : es Info Percentage: 17.51%\n",
      "Lang : es Info Percentage: 14.54%\n",
      "Lang : pt Info Percentage: 33.11%\n",
      "Lang : pt Info Percentage: 32.59%\n",
      "Lang : it Info Percentage: 27.22%\n",
      "Lang : it Info Percentage: 28.00%\n",
      "Lang : bn Info Percentage: 34.24%\n",
      "Lang : bn Info Percentage: 29.84%\n",
      "Lang : uk Info Percentage: 25.52%\n",
      "Lang : uk Info Percentage: 25.06%\n",
      "Lang : zh Info Percentage: 3.37%\n",
      "Lang : zh Info Percentage: 4.16%\n",
      "Lang : fr Info Percentage: 21.35%\n",
      "Lang : fr Info Percentage: 23.83%\n",
      "Lang : hi Info Percentage: 44.80%\n",
      "Lang : hi Info Percentage: 43.08%\n",
      "Lang : sv Info Percentage: 45.63%\n",
      "Lang : sv Info Percentage: 41.29%\n",
      "Lang : fa Info Percentage: 43.10%\n",
      "Lang : fa Info Percentage: 39.81%\n",
      "Lang : de Info Percentage: 19.57%\n",
      "Lang : de Info Percentage: 17.61%\n",
      "Lang : en Info Percentage: 32.77%\n",
      "Lang : en Info Percentage: 33.91%\n"
     ]
    }
   ],
   "source": [
    "for l in langs:\n",
    "    data = train_LM_df[train_LM_df.lang==l]\n",
    "    \n",
    "    temp = data[data['sent']!=data['augmented_sen']]\n",
    "    info_percent = temp.shape[0]/data.shape[0]\n",
    "    print(f\"Lang : {l} Info Percentage: {info_percent*100:.2f}%\")\n",
    "    infos.append((l,'train','LM',info_percent))\n",
    "    \n",
    "    data_dev = dev_LM_df[dev_LM_df.lang==l]\n",
    "    temp = data_dev[data_dev['sent']!=data_dev['augmented_sen']]\n",
    "    info_percent = temp.shape[0]/data_dev.shape[0]\n",
    "    print(f\"Lang : {l} Info Percentage: {info_percent*100:.2f}%\")\n",
    "    infos.append((l,'dev','LM',info_percent))"
   ]
  },
  {
   "cell_type": "code",
   "execution_count": 42,
   "id": "4b510740",
   "metadata": {},
   "outputs": [],
   "source": [
    "info_df = pd.DataFrame(infos, columns = ['Lang','Set','Extractor','Percentage'])"
   ]
  },
  {
   "cell_type": "code",
   "execution_count": 45,
   "id": "148339b0",
   "metadata": {},
   "outputs": [],
   "source": [
    "info_df.to_csv('info-pct.csv',index=False)"
   ]
  },
  {
   "cell_type": "code",
   "execution_count": 6,
   "id": "27177736",
   "metadata": {},
   "outputs": [],
   "source": [
    "import os\n",
    "import shutil\n",
    "for source in dev_all:\n",
    "#     source = file\n",
    "    destination = source.replace('all','tags')\n",
    "    shutil.copy(source, destination)\n",
    "    os.remove(source)"
   ]
  },
  {
   "cell_type": "code",
   "execution_count": 7,
   "id": "9f227ace",
   "metadata": {},
   "outputs": [
    {
     "data": {
      "text/plain": [
       "['../Dataset/dev-wiki-de-all.csv',\n",
       " '../Dataset/dev-wiki-hi-all.csv',\n",
       " '../Dataset/dev-wiki-pt-all.csv',\n",
       " '../Dataset/dev-wiki-zh-all.csv',\n",
       " '../Dataset/dev-wiki-it-all.csv',\n",
       " '../Dataset/dev-wiki-en-all.csv',\n",
       " '../Dataset/dev-wiki-bn-all.csv',\n",
       " '../Dataset/dev-wiki-sv-all.csv',\n",
       " '../Dataset/dev-wiki-es-all.csv',\n",
       " '../Dataset/dev-wiki-fa-all.csv',\n",
       " '../Dataset/dev-wiki-fr-all.csv',\n",
       " '../Dataset/dev-wiki-uk-all.csv']"
      ]
     },
     "execution_count": 7,
     "metadata": {},
     "output_type": "execute_result"
    }
   ],
   "source": [
    "dev_all"
   ]
  },
  {
   "cell_type": "code",
   "execution_count": null,
   "id": "0c7ea31a",
   "metadata": {},
   "outputs": [],
   "source": []
  }
 ],
 "metadata": {
  "kernelspec": {
   "display_name": "Python 3 (ipykernel)",
   "language": "python",
   "name": "python3"
  },
  "language_info": {
   "codemirror_mode": {
    "name": "ipython",
    "version": 3
   },
   "file_extension": ".py",
   "mimetype": "text/x-python",
   "name": "python",
   "nbconvert_exporter": "python",
   "pygments_lexer": "ipython3",
   "version": "3.10.6"
  }
 },
 "nbformat": 4,
 "nbformat_minor": 5
}

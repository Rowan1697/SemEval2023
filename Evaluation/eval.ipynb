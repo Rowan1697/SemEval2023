{
  "cells": [
    {
      "cell_type": "code",
      "source": [
        "# from google.colab import drive\n",
        "# drive.mount('/content/drive/')\n",
        "# %cd \"/content/drive/MyDrive/Colab Notebooks/SemEval WS/SemEval2023/Evaluation\""
      ],
      "metadata": {
        "id": "--o0gzwcTfQB"
      },
      "id": "--o0gzwcTfQB",
      "execution_count": null,
      "outputs": []
    },
    {
      "cell_type": "code",
      "source": [
        "# !pip install transformers\n",
        "# !pip install datasets\n",
        "# !pip install evaluate\n",
        "# !pip install colorama"
      ],
      "metadata": {
        "id": "0bL5lo3HTinZ"
      },
      "id": "0bL5lo3HTinZ",
      "execution_count": null,
      "outputs": []
    },
    {
      "cell_type": "code",
      "execution_count": 3,
      "id": "be2a86ad",
      "metadata": {
        "id": "be2a86ad"
      },
      "outputs": [],
      "source": [
        "import sys\n",
        "import os\n",
        "sys.path.append('../')\n",
        "import pandas as pd\n",
        "import torch \n",
        "import numpy as np\n",
        "from transformers import AutoModelForTokenClassification, AutoTokenizer\n",
        "from tqdm import tqdm\n",
        "import random\n",
        "from util.utils import feval, get_tag_mappings, get_data_from_hub, write_conll_format\n",
        "from util.dataloader import PreDataCollator\n",
        "os.environ[\"WANDB_DISABLED\"] = \"true\""
      ]
    },
    {
      "cell_type": "markdown",
      "id": "3b664f49",
      "metadata": {
        "id": "3b664f49"
      },
      "source": [
        "### Env Setup"
      ]
    },
    {
      "cell_type": "code",
      "execution_count": 4,
      "id": "1fe44e89",
      "metadata": {
        "id": "1fe44e89"
      },
      "outputs": [],
      "source": [
        "from torch import cuda\n",
        "device = 'cuda' if cuda.is_available() else 'cpu'\n",
        "\n",
        "### Seed all\n",
        "\n",
        "SEED = 42\n",
        "\n",
        "random.seed(SEED)\n",
        "np.random.seed(SEED)\n",
        "torch.manual_seed(SEED)\n",
        "torch.cuda.manual_seed_all(SEED)"
      ]
    },
    {
      "cell_type": "markdown",
      "id": "abf00f06",
      "metadata": {
        "id": "abf00f06"
      },
      "source": [
        "### Instructions\n",
        "\n",
        "Set the variables in the next cell according to the experiment:\n",
        "\n",
        "``LANG``: Set the language. You can find the language codes in the excel file.\n",
        "\n",
        "``TOKENIZER_NAME`` or ``MODEL_NAME``: Huggingface Model link that we uploaded after training\n",
        "\n",
        "``SET``: Select the dataset that you used before in training\n",
        "\n",
        "- ``None`` --> **None Augmentation** (No Augmentation from wiki)\n",
        "- ``tags`` --> **Max Augmentation** (Maximum Augmentation from wiki)\n",
        "- ``LM`` --> **Entity Extractor** (Augmentation from wiki after extracting tags using other NER model)\n",
        "\n",
        "\n",
        "**Don't forget to update the results in the excel sheet. The link is given below.**\n",
        "\n",
        "[Link to Excel File](https://docs.google.com/spreadsheets/d/11LXkOBWxpWDGMsi9XC72eMNSJI14Qo2iwP8qugwjyqU/edit#gid=0)"
      ]
    },
    {
      "cell_type": "markdown",
      "id": "df64430b",
      "metadata": {
        "id": "df64430b"
      },
      "source": [
        "### Define Variables"
      ]
    },
    {
      "cell_type": "code",
      "execution_count": 5,
      "id": "91e5fc48",
      "metadata": {
        "id": "91e5fc48"
      },
      "outputs": [],
      "source": [
        "LANG = 'en' # use None for all lang\n",
        "MAX_LEN = 256\n",
        "TOKENIZER_NAME = 'garNER/roberta-large-en'\n",
        "MODEL_NAME = 'garNER/roberta-large-en'\n",
        "SET = None # or 'tags' or 'LM' or None\n",
        "IS_CRF = False"
      ]
    },
    {
      "cell_type": "markdown",
      "id": "8ep4MB9Sw1sU",
      "metadata": {
        "id": "8ep4MB9Sw1sU"
      },
      "source": [
        "### Preparing data"
      ]
    },
    {
      "cell_type": "code",
      "execution_count": 6,
      "id": "071a7183",
      "metadata": {
        "colab": {
          "base_uri": "https://localhost:8080/"
        },
        "id": "071a7183",
        "outputId": "ae56242b-9c5e-4ee2-a8b1-313281d47bf9"
      },
      "outputs": [
        {
          "output_type": "stream",
          "name": "stderr",
          "text": [
            "WARNING:datasets.builder:Using custom data configuration garNER--custom-MultiCoNER-II-d2de2407cc6159d0\n",
            "WARNING:datasets.builder:Found cached dataset csv (/root/.cache/huggingface/datasets/garNER___csv/garNER--custom-MultiCoNER-II-d2de2407cc6159d0/0.0.0/6b34fb8fcf56f7c8ba51dc895bfa2bfbe43546f190a60fcf74bb5e8afdcc2317)\n",
            "WARNING:datasets.arrow_dataset:Loading cached processed dataset at /root/.cache/huggingface/datasets/garNER___csv/garNER--custom-MultiCoNER-II-d2de2407cc6159d0/0.0.0/6b34fb8fcf56f7c8ba51dc895bfa2bfbe43546f190a60fcf74bb5e8afdcc2317/cache-9b34ff0f32e605a9.arrow\n"
          ]
        }
      ],
      "source": [
        "test_data = get_data_from_hub(LANG, SET, split='validation')"
      ]
    },
    {
      "cell_type": "code",
      "execution_count": 7,
      "id": "bf3a2541",
      "metadata": {
        "colab": {
          "base_uri": "https://localhost:8080/"
        },
        "id": "bf3a2541",
        "outputId": "a4325ee1-4863-4912-a992-6b4b2fb92fc4"
      },
      "outputs": [
        {
          "output_type": "stream",
          "name": "stdout",
          "text": [
            "two  important  voices  who  applied  incommensurability  to  historical  and  philosophical  notions  of  science  in  the  1960s  are  thomas  kuhn  and  paul  feyerabend  . \n",
            " O  O  O  O  O  O  O  O  O  O  O  O  O  O  O  O  O  B-Scientist  I-Scientist  O  B-OtherPER  I-OtherPER  O\n"
          ]
        },
        {
          "output_type": "execute_result",
          "data": {
            "text/plain": [
              "Dataset({\n",
              "    features: ['ID', 'lang', 'sent', 'labels'],\n",
              "    num_rows: 870\n",
              "})"
            ]
          },
          "metadata": {},
          "execution_count": 7
        }
      ],
      "source": [
        "# Check random data item\n",
        "\n",
        "print(test_data[6]['sent'])\n",
        "print(test_data[6]['labels'])"
      ]
    },
    {
      "cell_type": "markdown",
      "id": "79d1f1a7",
      "metadata": {
        "id": "79d1f1a7"
      },
      "source": [
        "### Tokenization"
      ]
    },
    {
      "cell_type": "code",
      "execution_count": 8,
      "id": "Jpz3TFCapUl-",
      "metadata": {
        "id": "Jpz3TFCapUl-"
      },
      "outputs": [],
      "source": [
        "tags_to_ids, ids_to_tags = get_tag_mappings()\n",
        "number_of_labels = len(tags_to_ids)"
      ]
    },
    {
      "cell_type": "code",
      "execution_count": 9,
      "id": "0cmymWImg0tv",
      "metadata": {
        "id": "0cmymWImg0tv"
      },
      "outputs": [],
      "source": [
        "## load appropiate tokenizer for pre-trained models\n",
        "tokenizer = AutoTokenizer.from_pretrained(TOKENIZER_NAME, use_fast=True)"
      ]
    },
    {
      "cell_type": "code",
      "execution_count": 10,
      "id": "6504f456",
      "metadata": {
        "id": "6504f456"
      },
      "outputs": [],
      "source": [
        "collator = PreDataCollator(tokenizer=tokenizer, max_len=MAX_LEN, tags_to_ids = tags_to_ids)"
      ]
    },
    {
      "cell_type": "code",
      "execution_count": null,
      "id": "zhI_0XIYoM0I",
      "metadata": {
        "id": "zhI_0XIYoM0I",
        "scrolled": true
      },
      "outputs": [],
      "source": [
        "\n",
        "test_tokenized = test_data.map(collator, remove_columns=test_data.column_names, batch_size=4, num_proc=4, batched=True)\n",
        "\n"
      ]
    },
    {
      "cell_type": "markdown",
      "id": "75089f55",
      "metadata": {
        "id": "75089f55"
      },
      "source": [
        "### Load Saved Model"
      ]
    },
    {
      "cell_type": "code",
      "execution_count": 12,
      "id": "qWgBkq6Z3U1J",
      "metadata": {
        "id": "qWgBkq6Z3U1J"
      },
      "outputs": [],
      "source": [
        "model = AutoModelForTokenClassification.from_pretrained(MODEL_NAME, num_labels=number_of_labels)\n",
        "model = model.to(device)"
      ]
    },
    {
      "cell_type": "markdown",
      "id": "bb67fcdd",
      "metadata": {
        "id": "bb67fcdd"
      },
      "source": [
        "### Evaluation"
      ]
    },
    {
      "cell_type": "code",
      "execution_count": 13,
      "id": "56523ee1",
      "metadata": {
        "colab": {
          "base_uri": "https://localhost:8080/"
        },
        "id": "56523ee1",
        "outputId": "a22ae6f8-1b52-44f6-be29-15585760441a"
      },
      "outputs": [
        {
          "output_type": "stream",
          "name": "stderr",
          "text": [
            "100%|██████████| 870/870 [00:52<00:00, 16.71it/s]\n"
          ]
        },
        {
          "output_type": "stream",
          "name": "stdout",
          "text": [
            "Accuracy: 0.9272070988118514\n",
            "F1: 0.6633435119454568\n"
          ]
        }
      ],
      "source": [
        "outputs, vis = feval(test_data,test_tokenized, model, device, IS_CRF=IS_CRF)"
      ]
    },
    {
      "cell_type": "code",
      "execution_count": 14,
      "id": "fad80250",
      "metadata": {
        "colab": {
          "base_uri": "https://localhost:8080/"
        },
        "id": "fad80250",
        "outputId": "df41950b-dfe5-4cae-9b1b-4243d20dad6f"
      },
      "outputs": [
        {
          "output_type": "stream",
          "name": "stdout",
          "text": [
            "it \u001b[42m[O][O]\u001b[0m stars \u001b[42m[O][O]\u001b[0m tomokazu \u001b[42m[B-Artist][B-Artist]\u001b[0m sugita \u001b[42m[I-Artist][I-Artist]\u001b[0m daisuke \u001b[42m[B-OtherPER]\u001b[0m\u001b[41m[B-Artist]\u001b[0m sakaguchi \u001b[42m[I-OtherPER]\u001b[0m\u001b[41m[I-Artist]\u001b[0m rie \u001b[42m[B-Artist][B-Artist]\u001b[0m kugimiya \u001b[42m[I-Artist][I-Artist]\u001b[0m among \u001b[42m[O][O]\u001b[0m others \u001b[42m[O][O]\u001b[0m . \u001b[42m[O][O]\u001b[0m\n"
          ]
        }
      ],
      "source": [
        "print(vis[10])"
      ]
    },
    {
      "cell_type": "code",
      "execution_count": 15,
      "id": "dc1cd559",
      "metadata": {
        "id": "dc1cd559"
      },
      "outputs": [],
      "source": [
        "df = pd.DataFrame(outputs, columns=['ID','lang', 'sent','predictions','true'])"
      ]
    },
    {
      "cell_type": "code",
      "execution_count": 17,
      "id": "c1384fae",
      "metadata": {
        "id": "c1384fae"
      },
      "outputs": [],
      "source": [
        "fileName = MODEL_NAME.split('/')[-1]+'-outputs.txt'\n",
        "write_conll_format(fileName, df, col='predictions')\n"
      ]
    }
  ],
  "metadata": {
    "accelerator": "GPU",
    "colab": {
      "provenance": []
    },
    "gpuClass": "standard",
    "kernelspec": {
      "display_name": "Python 3 (ipykernel)",
      "language": "python",
      "name": "python3"
    },
    "language_info": {
      "codemirror_mode": {
        "name": "ipython",
        "version": 3
      },
      "file_extension": ".py",
      "mimetype": "text/x-python",
      "name": "python",
      "nbconvert_exporter": "python",
      "pygments_lexer": "ipython3",
      "version": "3.10.6"
    },
    "vscode": {
      "interpreter": {
        "hash": "e7370f93d1d0cde622a1f8e1c04877d8463912d04d973331ad4851f04de6915a"
      }
    }
  },
  "nbformat": 4,
  "nbformat_minor": 5
}